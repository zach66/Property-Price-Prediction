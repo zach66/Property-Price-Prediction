{
 "cells": [
  {
   "cell_type": "markdown",
   "metadata": {
    "_cell_guid": "b1076dfc-b9ad-4769-8c92-a6c4dae69d19",
    "_uuid": "8f2839f25d086af736a60e9eeb907d3b93b6e0e5"
   },
   "source": [
    "### *partial codes and functions are refenrecing from Jona5's notebook https://www.kaggle.com/jona5d"
   ]
  },
  {
   "cell_type": "code",
   "execution_count": 296,
   "metadata": {},
   "outputs": [
    {
     "name": "stdout",
     "output_type": "stream",
     "text": [
      "['.DS_Store', '.gitkeep', 'nyc-rolling-sales.csv']\n"
     ]
    }
   ],
   "source": [
    "#1 - Import libraries\n",
    "import numpy as np # linear algebra\n",
    "import pandas as pd # data processing, CSV file I/O (e.g. pd.read_csv)\n",
    "import matplotlib.pyplot as plt\n",
    "import seaborn as sns; sns.set(color_codes=True)\n",
    "from sklearn.model_selection import train_test_split \n",
    "from sklearn.linear_model import LinearRegression\n",
    "from sklearn.ensemble import RandomForestRegressor\n",
    "import scipy.stats as stat\n",
    "from sklearn.metrics import r2_score\n",
    "from sklearn import metrics\n",
    "import math\n",
    "import os\n",
    "\n",
    "print(os.listdir(\"../../data/external\"))"
   ]
  },
  {
   "cell_type": "code",
   "execution_count": 300,
   "metadata": {
    "_cell_guid": "79c7e3d0-c299-4dcb-8224-4455121ee9b0",
    "_uuid": "d629ff2d2480ee46fbb7e2d37f6b5fab8052498a",
    "scrolled": true
   },
   "outputs": [],
   "source": [
    "#2 - Load file into dataframe\n",
    "df = pd.read_csv(\"../../data/model/clean.csv\")"
   ]
  },
  {
   "cell_type": "code",
   "execution_count": 301,
   "metadata": {},
   "outputs": [
    {
     "data": {
      "text/html": [
       "<div>\n",
       "<style scoped>\n",
       "    .dataframe tbody tr th:only-of-type {\n",
       "        vertical-align: middle;\n",
       "    }\n",
       "\n",
       "    .dataframe tbody tr th {\n",
       "        vertical-align: top;\n",
       "    }\n",
       "\n",
       "    .dataframe thead th {\n",
       "        text-align: right;\n",
       "    }\n",
       "</style>\n",
       "<table border=\"1\" class=\"dataframe\">\n",
       "  <thead>\n",
       "    <tr style=\"text-align: right;\">\n",
       "      <th></th>\n",
       "      <th>BOROUGH</th>\n",
       "      <th>NEIGHBORHOOD</th>\n",
       "      <th>BUILDING CLASS CATEGORY</th>\n",
       "      <th>TAX CLASS AT PRESENT</th>\n",
       "      <th>BLOCK</th>\n",
       "      <th>LOT</th>\n",
       "      <th>EASE-MENT</th>\n",
       "      <th>BUILDING CLASS AT PRESENT</th>\n",
       "      <th>ADDRESS</th>\n",
       "      <th>APARTMENT NUMBER</th>\n",
       "      <th>...</th>\n",
       "      <th>GROSS SQUARE FEET</th>\n",
       "      <th>YEAR BUILT</th>\n",
       "      <th>TAX CLASS AT TIME OF SALE</th>\n",
       "      <th>BUILDING CLASS AT TIME OF SALE</th>\n",
       "      <th>SALE PRICE</th>\n",
       "      <th>SALE DATE</th>\n",
       "      <th>price</th>\n",
       "      <th>land</th>\n",
       "      <th>gross_sqft</th>\n",
       "      <th>year</th>\n",
       "    </tr>\n",
       "  </thead>\n",
       "  <tbody>\n",
       "    <tr>\n",
       "      <th>0</th>\n",
       "      <td>1</td>\n",
       "      <td>ALPHABET CITY</td>\n",
       "      <td>07 RENTALS - WALKUP APARTMENTS</td>\n",
       "      <td>2A</td>\n",
       "      <td>392</td>\n",
       "      <td>6</td>\n",
       "      <td></td>\n",
       "      <td>C2</td>\n",
       "      <td>153 AVENUE B</td>\n",
       "      <td></td>\n",
       "      <td>...</td>\n",
       "      <td>6440</td>\n",
       "      <td>1900</td>\n",
       "      <td>2</td>\n",
       "      <td>C2</td>\n",
       "      <td>6625000</td>\n",
       "      <td>2017-07-19 00:00:00</td>\n",
       "      <td>15.706361</td>\n",
       "      <td>1633.0</td>\n",
       "      <td>6440.0</td>\n",
       "      <td>1900.0</td>\n",
       "    </tr>\n",
       "    <tr>\n",
       "      <th>1</th>\n",
       "      <td>1</td>\n",
       "      <td>ALPHABET CITY</td>\n",
       "      <td>07 RENTALS - WALKUP APARTMENTS</td>\n",
       "      <td>2B</td>\n",
       "      <td>402</td>\n",
       "      <td>21</td>\n",
       "      <td></td>\n",
       "      <td>C4</td>\n",
       "      <td>154 EAST 7TH STREET</td>\n",
       "      <td></td>\n",
       "      <td>...</td>\n",
       "      <td>6794</td>\n",
       "      <td>1913</td>\n",
       "      <td>2</td>\n",
       "      <td>C4</td>\n",
       "      <td>3936272</td>\n",
       "      <td>2016-09-23 00:00:00</td>\n",
       "      <td>15.185745</td>\n",
       "      <td>2272.0</td>\n",
       "      <td>6794.0</td>\n",
       "      <td>1913.0</td>\n",
       "    </tr>\n",
       "    <tr>\n",
       "      <th>2</th>\n",
       "      <td>1</td>\n",
       "      <td>ALPHABET CITY</td>\n",
       "      <td>07 RENTALS - WALKUP APARTMENTS</td>\n",
       "      <td>2A</td>\n",
       "      <td>404</td>\n",
       "      <td>55</td>\n",
       "      <td></td>\n",
       "      <td>C2</td>\n",
       "      <td>301 EAST 10TH   STREET</td>\n",
       "      <td></td>\n",
       "      <td>...</td>\n",
       "      <td>4615</td>\n",
       "      <td>1900</td>\n",
       "      <td>2</td>\n",
       "      <td>C2</td>\n",
       "      <td>8000000</td>\n",
       "      <td>2016-11-17 00:00:00</td>\n",
       "      <td>15.894952</td>\n",
       "      <td>2369.0</td>\n",
       "      <td>4615.0</td>\n",
       "      <td>1900.0</td>\n",
       "    </tr>\n",
       "    <tr>\n",
       "      <th>3</th>\n",
       "      <td>1</td>\n",
       "      <td>ALPHABET CITY</td>\n",
       "      <td>07 RENTALS - WALKUP APARTMENTS</td>\n",
       "      <td>2B</td>\n",
       "      <td>406</td>\n",
       "      <td>32</td>\n",
       "      <td></td>\n",
       "      <td>C4</td>\n",
       "      <td>210 AVENUE B</td>\n",
       "      <td></td>\n",
       "      <td>...</td>\n",
       "      <td>4226</td>\n",
       "      <td>1920</td>\n",
       "      <td>2</td>\n",
       "      <td>C4</td>\n",
       "      <td>3192840</td>\n",
       "      <td>2016-09-23 00:00:00</td>\n",
       "      <td>14.976421</td>\n",
       "      <td>1750.0</td>\n",
       "      <td>4226.0</td>\n",
       "      <td>1920.0</td>\n",
       "    </tr>\n",
       "    <tr>\n",
       "      <th>4</th>\n",
       "      <td>1</td>\n",
       "      <td>ALPHABET CITY</td>\n",
       "      <td>08 RENTALS - ELEVATOR APARTMENTS</td>\n",
       "      <td>2</td>\n",
       "      <td>387</td>\n",
       "      <td>153</td>\n",
       "      <td></td>\n",
       "      <td>D9</td>\n",
       "      <td>629 EAST 5TH STREET</td>\n",
       "      <td></td>\n",
       "      <td>...</td>\n",
       "      <td>18523</td>\n",
       "      <td>1920</td>\n",
       "      <td>2</td>\n",
       "      <td>D9</td>\n",
       "      <td>16232000</td>\n",
       "      <td>2016-11-07 00:00:00</td>\n",
       "      <td>16.602495</td>\n",
       "      <td>4489.0</td>\n",
       "      <td>18523.0</td>\n",
       "      <td>1920.0</td>\n",
       "    </tr>\n",
       "    <tr>\n",
       "      <th>...</th>\n",
       "      <td>...</td>\n",
       "      <td>...</td>\n",
       "      <td>...</td>\n",
       "      <td>...</td>\n",
       "      <td>...</td>\n",
       "      <td>...</td>\n",
       "      <td>...</td>\n",
       "      <td>...</td>\n",
       "      <td>...</td>\n",
       "      <td>...</td>\n",
       "      <td>...</td>\n",
       "      <td>...</td>\n",
       "      <td>...</td>\n",
       "      <td>...</td>\n",
       "      <td>...</td>\n",
       "      <td>...</td>\n",
       "      <td>...</td>\n",
       "      <td>...</td>\n",
       "      <td>...</td>\n",
       "      <td>...</td>\n",
       "      <td>...</td>\n",
       "    </tr>\n",
       "    <tr>\n",
       "      <th>58543</th>\n",
       "      <td>5</td>\n",
       "      <td>WOODROW</td>\n",
       "      <td>02 TWO FAMILY DWELLINGS</td>\n",
       "      <td>1</td>\n",
       "      <td>7349</td>\n",
       "      <td>34</td>\n",
       "      <td></td>\n",
       "      <td>B9</td>\n",
       "      <td>37 QUAIL LANE</td>\n",
       "      <td></td>\n",
       "      <td>...</td>\n",
       "      <td>2575</td>\n",
       "      <td>1998</td>\n",
       "      <td>1</td>\n",
       "      <td>B9</td>\n",
       "      <td>450000</td>\n",
       "      <td>2016-11-28 00:00:00</td>\n",
       "      <td>13.017003</td>\n",
       "      <td>2400.0</td>\n",
       "      <td>2575.0</td>\n",
       "      <td>1998.0</td>\n",
       "    </tr>\n",
       "    <tr>\n",
       "      <th>58544</th>\n",
       "      <td>5</td>\n",
       "      <td>WOODROW</td>\n",
       "      <td>02 TWO FAMILY DWELLINGS</td>\n",
       "      <td>1</td>\n",
       "      <td>7349</td>\n",
       "      <td>78</td>\n",
       "      <td></td>\n",
       "      <td>B9</td>\n",
       "      <td>32 PHEASANT LANE</td>\n",
       "      <td></td>\n",
       "      <td>...</td>\n",
       "      <td>2377</td>\n",
       "      <td>1998</td>\n",
       "      <td>1</td>\n",
       "      <td>B9</td>\n",
       "      <td>550000</td>\n",
       "      <td>2017-04-21 00:00:00</td>\n",
       "      <td>13.217674</td>\n",
       "      <td>2498.0</td>\n",
       "      <td>2377.0</td>\n",
       "      <td>1998.0</td>\n",
       "    </tr>\n",
       "    <tr>\n",
       "      <th>58545</th>\n",
       "      <td>5</td>\n",
       "      <td>WOODROW</td>\n",
       "      <td>02 TWO FAMILY DWELLINGS</td>\n",
       "      <td>1</td>\n",
       "      <td>7351</td>\n",
       "      <td>60</td>\n",
       "      <td></td>\n",
       "      <td>B2</td>\n",
       "      <td>49 PITNEY AVENUE</td>\n",
       "      <td></td>\n",
       "      <td>...</td>\n",
       "      <td>1496</td>\n",
       "      <td>1925</td>\n",
       "      <td>1</td>\n",
       "      <td>B2</td>\n",
       "      <td>460000</td>\n",
       "      <td>2017-07-05 00:00:00</td>\n",
       "      <td>13.038982</td>\n",
       "      <td>4000.0</td>\n",
       "      <td>1496.0</td>\n",
       "      <td>1925.0</td>\n",
       "    </tr>\n",
       "    <tr>\n",
       "      <th>58546</th>\n",
       "      <td>5</td>\n",
       "      <td>WOODROW</td>\n",
       "      <td>22 STORE BUILDINGS</td>\n",
       "      <td>4</td>\n",
       "      <td>7100</td>\n",
       "      <td>28</td>\n",
       "      <td></td>\n",
       "      <td>K6</td>\n",
       "      <td>2730 ARTHUR KILL ROAD</td>\n",
       "      <td></td>\n",
       "      <td>...</td>\n",
       "      <td>64117</td>\n",
       "      <td>2001</td>\n",
       "      <td>4</td>\n",
       "      <td>K6</td>\n",
       "      <td>11693337</td>\n",
       "      <td>2016-12-21 00:00:00</td>\n",
       "      <td>16.274530</td>\n",
       "      <td>208033.0</td>\n",
       "      <td>64117.0</td>\n",
       "      <td>2001.0</td>\n",
       "    </tr>\n",
       "    <tr>\n",
       "      <th>58547</th>\n",
       "      <td>5</td>\n",
       "      <td>WOODROW</td>\n",
       "      <td>35 INDOOR PUBLIC AND CULTURAL FACILITIES</td>\n",
       "      <td>4</td>\n",
       "      <td>7105</td>\n",
       "      <td>679</td>\n",
       "      <td></td>\n",
       "      <td>P9</td>\n",
       "      <td>155 CLAY PIT ROAD</td>\n",
       "      <td></td>\n",
       "      <td>...</td>\n",
       "      <td>2400</td>\n",
       "      <td>2006</td>\n",
       "      <td>4</td>\n",
       "      <td>P9</td>\n",
       "      <td>69300</td>\n",
       "      <td>2016-10-27 00:00:00</td>\n",
       "      <td>11.146200</td>\n",
       "      <td>10796.0</td>\n",
       "      <td>2400.0</td>\n",
       "      <td>2006.0</td>\n",
       "    </tr>\n",
       "  </tbody>\n",
       "</table>\n",
       "<p>58548 rows × 25 columns</p>\n",
       "</div>"
      ],
      "text/plain": [
       "       BOROUGH   NEIGHBORHOOD                      BUILDING CLASS CATEGORY  \\\n",
       "0            1  ALPHABET CITY  07 RENTALS - WALKUP APARTMENTS                \n",
       "1            1  ALPHABET CITY  07 RENTALS - WALKUP APARTMENTS                \n",
       "2            1  ALPHABET CITY  07 RENTALS - WALKUP APARTMENTS                \n",
       "3            1  ALPHABET CITY  07 RENTALS - WALKUP APARTMENTS                \n",
       "4            1  ALPHABET CITY  08 RENTALS - ELEVATOR APARTMENTS              \n",
       "...        ...            ...                                          ...   \n",
       "58543        5        WOODROW  02 TWO FAMILY DWELLINGS                       \n",
       "58544        5        WOODROW  02 TWO FAMILY DWELLINGS                       \n",
       "58545        5        WOODROW  02 TWO FAMILY DWELLINGS                       \n",
       "58546        5        WOODROW  22 STORE BUILDINGS                            \n",
       "58547        5        WOODROW  35 INDOOR PUBLIC AND CULTURAL FACILITIES      \n",
       "\n",
       "      TAX CLASS AT PRESENT  BLOCK  LOT EASE-MENT BUILDING CLASS AT PRESENT  \\\n",
       "0                       2A    392    6                                  C2   \n",
       "1                       2B    402   21                                  C4   \n",
       "2                       2A    404   55                                  C2   \n",
       "3                       2B    406   32                                  C4   \n",
       "4                        2    387  153                                  D9   \n",
       "...                    ...    ...  ...       ...                       ...   \n",
       "58543                    1   7349   34                                  B9   \n",
       "58544                    1   7349   78                                  B9   \n",
       "58545                    1   7351   60                                  B2   \n",
       "58546                    4   7100   28                                  K6   \n",
       "58547                    4   7105  679                                  P9   \n",
       "\n",
       "                      ADDRESS APARTMENT NUMBER  ...  GROSS SQUARE FEET  \\\n",
       "0                153 AVENUE B                   ...               6440   \n",
       "1         154 EAST 7TH STREET                   ...               6794   \n",
       "2      301 EAST 10TH   STREET                   ...               4615   \n",
       "3                210 AVENUE B                   ...               4226   \n",
       "4         629 EAST 5TH STREET                   ...              18523   \n",
       "...                       ...              ...  ...                ...   \n",
       "58543           37 QUAIL LANE                   ...               2575   \n",
       "58544        32 PHEASANT LANE                   ...               2377   \n",
       "58545        49 PITNEY AVENUE                   ...               1496   \n",
       "58546   2730 ARTHUR KILL ROAD                   ...              64117   \n",
       "58547       155 CLAY PIT ROAD                   ...               2400   \n",
       "\n",
       "       YEAR BUILT  TAX CLASS AT TIME OF SALE  BUILDING CLASS AT TIME OF SALE  \\\n",
       "0            1900                          2                              C2   \n",
       "1            1913                          2                              C4   \n",
       "2            1900                          2                              C2   \n",
       "3            1920                          2                              C4   \n",
       "4            1920                          2                              D9   \n",
       "...           ...                        ...                             ...   \n",
       "58543        1998                          1                              B9   \n",
       "58544        1998                          1                              B9   \n",
       "58545        1925                          1                              B2   \n",
       "58546        2001                          4                              K6   \n",
       "58547        2006                          4                              P9   \n",
       "\n",
       "      SALE PRICE            SALE DATE      price      land gross_sqft    year  \n",
       "0        6625000  2017-07-19 00:00:00  15.706361    1633.0     6440.0  1900.0  \n",
       "1        3936272  2016-09-23 00:00:00  15.185745    2272.0     6794.0  1913.0  \n",
       "2        8000000  2016-11-17 00:00:00  15.894952    2369.0     4615.0  1900.0  \n",
       "3        3192840  2016-09-23 00:00:00  14.976421    1750.0     4226.0  1920.0  \n",
       "4       16232000  2016-11-07 00:00:00  16.602495    4489.0    18523.0  1920.0  \n",
       "...          ...                  ...        ...       ...        ...     ...  \n",
       "58543     450000  2016-11-28 00:00:00  13.017003    2400.0     2575.0  1998.0  \n",
       "58544     550000  2017-04-21 00:00:00  13.217674    2498.0     2377.0  1998.0  \n",
       "58545     460000  2017-07-05 00:00:00  13.038982    4000.0     1496.0  1925.0  \n",
       "58546   11693337  2016-12-21 00:00:00  16.274530  208033.0    64117.0  2001.0  \n",
       "58547      69300  2016-10-27 00:00:00  11.146200   10796.0     2400.0  2006.0  \n",
       "\n",
       "[58548 rows x 25 columns]"
      ]
     },
     "execution_count": 301,
     "metadata": {},
     "output_type": "execute_result"
    }
   ],
   "source": [
    "df"
   ]
  },
  {
   "cell_type": "code",
   "execution_count": 302,
   "metadata": {},
   "outputs": [
    {
     "name": "stdout",
     "output_type": "stream",
     "text": [
      "(58548, 25) \n",
      "\n",
      "BOROUGH                             int64\n",
      "NEIGHBORHOOD                       object\n",
      "BUILDING CLASS CATEGORY            object\n",
      "TAX CLASS AT PRESENT               object\n",
      "BLOCK                               int64\n",
      "LOT                                 int64\n",
      "EASE-MENT                          object\n",
      "BUILDING CLASS AT PRESENT          object\n",
      "ADDRESS                            object\n",
      "APARTMENT NUMBER                   object\n",
      "ZIP CODE                            int64\n",
      "RESIDENTIAL UNITS                   int64\n",
      "COMMERCIAL UNITS                    int64\n",
      "TOTAL UNITS                         int64\n",
      "LAND SQUARE FEET                   object\n",
      "GROSS SQUARE FEET                  object\n",
      "YEAR BUILT                          int64\n",
      "TAX CLASS AT TIME OF SALE           int64\n",
      "BUILDING CLASS AT TIME OF SALE     object\n",
      "SALE PRICE                          int64\n",
      "SALE DATE                          object\n",
      "price                             float64\n",
      "land                              float64\n",
      "gross_sqft                        float64\n",
      "year                              float64\n",
      "dtype: object \n",
      "\n",
      "BOROUGH                           0\n",
      "NEIGHBORHOOD                      0\n",
      "BUILDING CLASS CATEGORY           0\n",
      "TAX CLASS AT PRESENT              0\n",
      "BLOCK                             0\n",
      "LOT                               0\n",
      "EASE-MENT                         0\n",
      "BUILDING CLASS AT PRESENT         0\n",
      "ADDRESS                           0\n",
      "APARTMENT NUMBER                  0\n",
      "ZIP CODE                          0\n",
      "RESIDENTIAL UNITS                 0\n",
      "COMMERCIAL UNITS                  0\n",
      "TOTAL UNITS                       0\n",
      "LAND SQUARE FEET                  0\n",
      "GROSS SQUARE FEET                 0\n",
      "YEAR BUILT                        0\n",
      "TAX CLASS AT TIME OF SALE         0\n",
      "BUILDING CLASS AT TIME OF SALE    0\n",
      "SALE PRICE                        0\n",
      "SALE DATE                         0\n",
      "price                             0\n",
      "land                              0\n",
      "gross_sqft                        0\n",
      "year                              0\n",
      "dtype: int64 \n",
      "\n"
     ]
    }
   ],
   "source": [
    "#Overview of data\n",
    "#Find no. of rows & cols\n",
    "print(df.shape, \"\\n\")\n",
    "#Show col names and datatypes\n",
    "print(df.dtypes, \"\\n\")\n",
    "#Show no. of None values\n",
    "print(df.isna().sum(), \"\\n\")"
   ]
  },
  {
   "cell_type": "code",
   "execution_count": 262,
   "metadata": {
    "_uuid": "0b294664d440b3d20ab5cb966056c26d80f17199"
   },
   "outputs": [],
   "source": [
    "#3 - Functions for data exploration\n",
    "\n",
    "#Function for plotting histograms:\n",
    "def PlotHist(col, color='b'):\n",
    "    col.plot.hist(grid=True, bins=12, rwidth=0.9,\n",
    "                      color=color)\n",
    "    plt.title('Value distribution: ' + col.name)\n",
    "    plt.xlabel(col.name)\n",
    "    plt.ylabel('Frequency')\n",
    "    plt.grid(axis='y', alpha=0.75)\n",
    "    plt.show();\n",
    "    \n",
    "#Calculate step for y-ticks\n",
    "def CalcMax(max_val):\n",
    "    mag = len(str(round(max_val))) - 1\n",
    "    #power of ten - pot\n",
    "    PoT = 10 ** mag \n",
    "    rounded = math.ceil(max_val/PoT) * PoT\n",
    "    return rounded;\n",
    "\n",
    "#Function for selecting categories\n",
    "def AssignCat(col, num_cats=5):\n",
    "    if len(col.value_counts().keys()) < num_cats:\n",
    "        num_cats = len(col.value_counts().keys())\n",
    "    cats =  pd.DataFrame(col.value_counts().nlargest(num_cats - 1))\n",
    "    cats['row_num'] = [str(x+1) for x in range(len(cats))]\n",
    "    cats['name'] = cats.index.values\n",
    "    col = pd.DataFrame({'val': col.values})\n",
    "    col = pd.merge(col, cats, how='left', left_on='val', right_on='name')\n",
    "    col['new'] = col['row_num'].fillna(str(num_cats))\n",
    "    return col['new'].values;\n",
    " \n",
    "#Function for plotting bar charts:\n",
    "def PlotBar(col, color='b'):\n",
    "    means = {}\n",
    "    for i in col.unique():\n",
    "        means.update({i : np.exp(df['Price'][df[col.name]== i]).mean()})   \n",
    "    plt.bar(range(len(means)), list(means.values()), align='center', \\\n",
    "            color=color)\n",
    "    plt.xticks(range(len(means)), sorted(list(means.keys())))\n",
    "    #Get largest value\n",
    "    maximum = CalcMax(max(means.values()))\n",
    "    s = maximum / 5\n",
    "    y_labels = [\"{:,}\".format(x) for x in np.arange(0,maximum, step=s)]\n",
    "    plt.yticks(np.arange(0,maximum, step=s),y_labels)\n",
    "    plt.title('Avg. Price per ' + col.name)\n",
    "    plt.xlabel(col.name)\n",
    "    plt.ylabel('Price')\n",
    "    plt.show(); \n",
    "    \n",
    "#Function for creating scatter plots:\n",
    "def PlotScatter(col, show='none'):\n",
    "    plt.title('Price - ' + col.name)\n",
    "    plt.xlabel(col.name)\n",
    "    plt.ylabel('Price log')\n",
    "    if show == 'mlp':\n",
    "        plt.scatter(col,(df['Price']))\n",
    "        plt.show()\n",
    "    elif show == 'sns': \n",
    "        sns.regplot(x=col.name, y='Price', data=df, x_jitter=.5)\n",
    "        plt.show()\n",
    "    else: print(col.name +': No plot shown to reduce processing time');"
   ]
  },
  {
   "cell_type": "code",
   "execution_count": 263,
   "metadata": {
    "_uuid": "0215e298e1d089feb0ebd9551d0e75bbb91db0ea",
    "scrolled": true
   },
   "outputs": [
    {
     "data": {
      "image/png": "[encoded data removed]",
      "text/plain": [
       "<Figure size 432x288 with 1 Axes>"
      ]
     },
     "metadata": {},
     "output_type": "display_data"
    }
   ],
   "source": [
    "#4 - Analyse dependent variable\n",
    "\n",
    "# #Check for unusual values\n",
    "# df['Price'] = sorted(df['SALE PRICE'])\n",
    "# #print(df.Price.head(10))\n",
    "\n",
    "#Some values which represent missing values: '-'\n",
    "#Convert to int\n",
    "df['Price'] = pd.to_numeric(df['SALE PRICE'], errors='coerce')\n",
    "\n",
    "#remove Nan values\n",
    "df = df[df['Price'].isnull()==0]\n",
    "\n",
    "# df['Price'] = df['Price'].astype(int)\n",
    "# Show distribution before transformation\n",
    "PlotHist(df['Price'],'c')"
   ]
  },
  {
   "cell_type": "code",
   "execution_count": 264,
   "metadata": {},
   "outputs": [
    {
     "name": "stdout",
     "output_type": "stream",
     "text": [
      "count     59759\n",
      "unique    10006\n",
      "top          10\n",
      "freq        766\n",
      "Name: SALE PRICE, dtype: object \n",
      "\n",
      "Average Price (log): 13 \n",
      "\n",
      "Std. Dev. of Price (log): 2 \n",
      "\n"
     ]
    },
    {
     "data": {
      "image/png": "[encoded data removed]",
      "text/plain": [
       "<Figure size 432x288 with 1 Axes>"
      ]
     },
     "metadata": {},
     "output_type": "display_data"
    }
   ],
   "source": [
    "#Remove records with price = 0 - Anomalies\n",
    "df = df[df['Price'] != 0]\n",
    "\n",
    "df['Price'] = df['Price'].apply(np.log)\n",
    "\n",
    "print(df['SALE PRICE'].describe(), \"\\n\")\n",
    "price_avg = df['Price'].mean()\n",
    "print('Average Price (log): ' + \"{:,}\".format(round(price_avg)), \"\\n\")\n",
    "price_stdev = np.std(df['Price'])\n",
    "print('Std. Dev. of Price (log): ' + \"{:,}\".format(round(price_stdev)), \"\\n\")\n",
    "\n",
    "#Remove outliers: 3 stdevs from mean\n",
    "df =  df[df['Price'] >= price_avg - price_stdev * 3]\n",
    "df =  df[df['Price'] <= price_avg + price_stdev * 3]\n",
    "\n",
    "#Plot again:\n",
    "PlotHist(df['Price'], 'c')"
   ]
  },
  {
   "cell_type": "code",
   "execution_count": 206,
   "metadata": {},
   "outputs": [
    {
     "data": {
      "image/png": "[encoded data removed]",
      "text/plain": [
       "<Figure size 792x648 with 2 Axes>"
      ]
     },
     "metadata": {},
     "output_type": "display_data"
    }
   ],
   "source": [
    "#Compute the correlation matrix\n",
    "d= df[['TOTAL UNITS','GROSS SQUARE FEET','SALE PRICE', 'LAND SQUARE FEET', 'RESIDENTIAL UNITS', \n",
    "         'COMMERCIAL UNITS']]\n",
    "\n",
    "corr = d.corr()\n",
    "\n",
    "# Generate a mask for the upper triangle\n",
    "mask = np.zeros_like(corr, dtype=np.bool)\n",
    "mask[np.triu_indices_from(mask)] = True\n",
    "\n",
    "# Set up the matplotlib figure\n",
    "f, ax = plt.subplots(figsize=(11, 9))\n",
    "\n",
    "# Generate a custom diverging colormap\n",
    "cmap = sns.diverging_palette(220, 10, as_cmap=True)\n",
    "\n",
    "# Draw the heatmap with the mask and correct aspect ratio\n",
    "sns.heatmap(corr, mask=mask, \n",
    "            square=True, linewidths=.5, annot=True, cmap=cmap)\n",
    "plt.yticks(rotation=0)\n",
    "plt.title('Heatmap for all Numerical Variables')\n",
    "plt.show()"
   ]
  },
  {
   "cell_type": "code",
   "execution_count": 207,
   "metadata": {
    "_uuid": "e20e284f76e542f4cfc15c691f1f23965b17d5de"
   },
   "outputs": [],
   "source": [
    "# #5 - Explore independent variables\n",
    "\n",
    "# #1. Borough\n",
    "# print('BOROUGH - Value Counts')\n",
    "# print(df.BOROUGH.value_counts(), \"\\n\")\n",
    "# PlotBar(df['BOROUGH'],'g')\n",
    "\n",
    "# #Convert to dummies\n",
    "# borough = pd.get_dummies(df['BOROUGH'], prefix='borough')\n",
    "# df = pd.concat([df, borough], axis=1)\n",
    "\n",
    "# # May use this feature in multiple regression due to significant price difference\n",
    "\n",
    "# #2. Neighborhood\n",
    "# #print('NEIGHBORHOOD - Value Counts')\n",
    "# #print(df.NEIGHBORHOOD.value_counts(), \"\\n\")\n",
    "# # Probably not useful: too many distinct, non-numeric values\n",
    "\n",
    "# #3. Building Class Category\n",
    "# #Since there are too many categories, we only take the first 4 categories \n",
    "# #and group the rest into one\n",
    "# df['building_category'] = AssignCat(df['BUILDING CLASS CATEGORY'])\n",
    "\n",
    "# PlotBar(df['building_category'],'r')\n",
    "\n",
    "# #Convert to dummies\n",
    "# build_cat = pd.get_dummies(df['building_category'], prefix='bc')\n",
    "# df = pd.concat([df, build_cat], axis=1)\n",
    "\n",
    "# #4.A Tax Class Category\n",
    "# print('Tax Class - Value Counts')\n",
    "# print(df['TAX CLASS AT PRESENT'].value_counts(), \"\\n\")\n",
    "# #Only use 3 most common classes\n",
    "# df['tax_class'] = AssignCat(df['TAX CLASS AT PRESENT'])\n",
    "\n",
    "# PlotBar(df['tax_class'],'gray')\n",
    "\n",
    "# #Convert to dummies\n",
    "# tax_class = pd.get_dummies(df['tax_class'], prefix='tc')\n",
    "# df = pd.concat([df, tax_class], axis=1)\n",
    "\n",
    "# #4.B Tax class at time of sale\n",
    "# print('Tax Class at Sale - Value Counts')\n",
    "# print(df['TAX CLASS AT TIME OF SALE'].value_counts(), \"\\n\")\n",
    "# #Only use 3 most common classes\n",
    "# df['tc_at_sale'] = AssignCat(df['TAX CLASS AT TIME OF SALE'])\n",
    "  \n",
    "\n",
    "# PlotBar(df['tax_class'],'black')\n",
    "\n",
    "# tc_present = pd.get_dummies(df['tc_at_sale'], prefix='tcs')\n",
    "# df = pd.concat([df, tc_present], axis=1)\n",
    "\n",
    "# #Different systems - unclear which is better\n",
    "\n",
    "# #5. Block\n",
    "# #print('Block - Value Counts')\n",
    "# #print(df['BLOCK'].value_counts(), \"\\n\")\n",
    "# #Too many distinct values, no category with significant % of counts\n",
    "\n",
    "# #6. Lot\n",
    "# #print('Lot - Value Counts')\n",
    "# #print(df['LOT'].value_counts(), \"\\n\")\n",
    "# #Too many distinct values, no category with significant % of counts\n",
    "\n",
    "# #7. Ease-ment\n",
    "# print('Ease-ment - Value Counts')\n",
    "# print(df['EASE-MENT'].value_counts(), \"\\n\")\n",
    "# #Same as ID - no use\n",
    "\n",
    "# #8A - Building class at present\n",
    "# #print('Building Class Present - Value Counts')\n",
    "# #print(df['BUILDING CLASS AT PRESENT'].value_counts(), \"\\n\")\n",
    "# #Only use 3 most common classes\n",
    "# df['bcp'] = AssignCat(df['BUILDING CLASS AT PRESENT'])\n",
    "\n",
    "# PlotBar(df['bcp'],color='y')\n",
    "\n",
    "# #8B - Building class at time of sale\n",
    "\n",
    "\n",
    "# df['bcs'] = AssignCat(df['BUILDING CLASS AT TIME OF SALE'])\n",
    "\n",
    "# PlotBar(df['bcs'],color='coral')\n",
    "\n",
    "# #Almost the same as Building Class at Present - use at Sale which is more meaningful\n",
    "\n",
    "# bcs = pd.get_dummies(df['bcs'], prefix='bcs')\n",
    "# df = pd.concat([df, bcs], axis=1)\n",
    "\n",
    "# #9. Address\n",
    "# #Too specifig - unlikely to be useful\n",
    "\n",
    "# #10. Apartment no.\n",
    "# #print('Apartment No. - Value Counts')\n",
    "# #print(df['APARTMENT NUMBER'].value_counts(), \"\\n\")\n",
    "# #Too many different values \n",
    "\n",
    "# #11. Zip code\n",
    "# #print('ZIP Code - Value Counts')\n",
    "# #print(df['ZIP CODE'].value_counts(), \"\\n\")\n",
    "# #Too many different values \n",
    "\n",
    "\n",
    "# #12. Residential units\n",
    "# #print('RESIDENTIAL UNITS - Value Counts')\n",
    "# #print(df['RESIDENTIAL UNITS'].value_counts(), \"\\n\")\n",
    "# df['res_unit_log'] = df['RESIDENTIAL UNITS'].apply(lambda x: 0 if x == 0 \\\n",
    "#                                               else np.log(x)) \n",
    "# PlotScatter(df['res_unit_log'])\n",
    "\n",
    "# #13. Commercial units\n",
    "# df['com_unit_log'] = df['COMMERCIAL UNITS'].apply(lambda x: 0 if x == 0 \\\n",
    "#                                               else np.log(x)) \n",
    "# PlotScatter(df['com_unit_log'])\n",
    "\n",
    "# #14. Total units\n",
    "# df['tot_unit_log'] = df['TOTAL UNITS'].apply(lambda x: 0 if x == 0 \\\n",
    "#                                               else np.log(x)) \n",
    "# PlotScatter(df['tot_unit_log'])\n",
    "\n",
    "# #15. Land square ft\n",
    "# #Impute mean for missing and values\n",
    "# df['land'] =  pd.to_numeric(df['LAND SQUARE FEET'], errors='coerce')\n",
    "# #use median for 0 and nulls\n",
    "# land_median = df['land'][df['land']!=0].median()\n",
    "# df['land'] = df['land'].fillna(land_median)\n",
    "# df['land'] = df['land'].apply(lambda x: x if x > 0 \\\n",
    "#                                           else land_median)\n",
    "# df['land_log'] = np.log(df['land'])\n",
    "# PlotScatter(df['land_log'])\n",
    "\n",
    "# #16. Gross square ft\n",
    "# df['gross_sqft'] =  pd.to_numeric(df['GROSS SQUARE FEET'], errors='coerce')\n",
    "# #use median for 0 and nulls\n",
    "# gross_sqft_median = df['gross_sqft'][df['gross_sqft']!=0].median()\n",
    "# df['gross_sqft'] = df['gross_sqft'].fillna(gross_sqft_median)\n",
    "# df['gross_sqft'] = df['gross_sqft'].apply(lambda x: x if x > 0 \\\n",
    "#                                           else gross_sqft_median)\n",
    "# df['gross_sqft_log'] = np.log(df['gross_sqft'])\n",
    "# PlotScatter(df['gross_sqft'])\n",
    "\n",
    "# #17. Year built\n",
    "# df['year'] = df['YEAR BUILT']\n",
    "# #Impute median where year = 0\n",
    "# year_median = df['year'][df['year'] != 0].median()\n",
    "# #Date cannot before 1764\n",
    "# df['year'] = df['year'].apply(lambda x: x if x >= 1764 else year_median )\n",
    "# PlotHist(df['year'], 'orange')\n",
    "# PlotScatter(df['year'])\n",
    "\n",
    "# #Unclear if relationship between year and price\n",
    "\n",
    "\n",
    "# #18. Sale date\n",
    "# df['date'] = pd.to_datetime(df['SALE DATE'], format = '%Y-%m-%d %H:%M:%S') \n",
    "\n",
    "# sale_dates =  sorted(set(df['date']))\n",
    "\n",
    "# date_means = []\n",
    "# for i in sale_dates:\n",
    "#     date_means.append(np.exp(df['Price'][df['date']== i]).mean())\n",
    "    \n",
    "# plt.plot(sale_dates,date_means)\n",
    "# plt.title('Price - Sale Date')\n",
    "# plt.xlabel('Date')\n",
    "# plt.ylabel('Price')\n",
    "# plt.show()\n",
    "# #Apparently no clear relationship"
   ]
  },
  {
   "cell_type": "code",
   "execution_count": 208,
   "metadata": {},
   "outputs": [
    {
     "name": "stdout",
     "output_type": "stream",
     "text": [
      "BOROUGH - Value Counts\n",
      "4    18092\n",
      "3    15323\n",
      "1    14271\n",
      "5     5855\n",
      "2     5007\n",
      "Name: BOROUGH, dtype: int64 \n",
      "\n"
     ]
    },
    {
     "data": {
      "image/png": "[encoded data removed]",
      "text/plain": [
       "<Figure size 432x288 with 1 Axes>"
      ]
     },
     "metadata": {},
     "output_type": "display_data"
    }
   ],
   "source": [
    "#5 - Explore independent variables\n",
    "\n",
    "#1. Borough\n",
    "print('BOROUGH - Value Counts')\n",
    "print(df.BOROUGH.value_counts(), \"\\n\")\n",
    "PlotBar(df['BOROUGH'],'g')"
   ]
  },
  {
   "cell_type": "code",
   "execution_count": 209,
   "metadata": {},
   "outputs": [
    {
     "name": "stdout",
     "output_type": "stream",
     "text": [
      "NEIGHBORHOOD - Value Counts\n",
      "FLUSHING-NORTH              2163\n",
      "UPPER EAST SIDE (59-79)     1459\n",
      "UPPER EAST SIDE (79-96)     1312\n",
      "UPPER WEST SIDE (59-79)     1077\n",
      "MIDTOWN EAST                1064\n",
      "                            ... \n",
      "FRESH KILLS                    2\n",
      "VAN CORTLANDT PARK             2\n",
      "CITY ISLAND-PELHAM STRIP       1\n",
      "EAST RIVER                     1\n",
      "BRONX PARK                     1\n",
      "Name: NEIGHBORHOOD, Length: 253, dtype: int64 \n",
      "\n"
     ]
    }
   ],
   "source": [
    "#2. Neighborhood\n",
    "print('NEIGHBORHOOD - Value Counts')\n",
    "print(df.NEIGHBORHOOD.value_counts(), \"\\n\")\n",
    "#Probably not useful: too many distinct, non-numeric values"
   ]
  },
  {
   "cell_type": "code",
   "execution_count": 265,
   "metadata": {
    "scrolled": true
   },
   "outputs": [
    {
     "name": "stdout",
     "output_type": "stream",
     "text": [
      "Building Class - Value Counts\n",
      "01 ONE FAMILY DWELLINGS                        12690\n",
      "10 COOPS - ELEVATOR APARTMENTS                 11520\n",
      "13 CONDOS - ELEVATOR APARTMENTS                10264\n",
      "02 TWO FAMILY DWELLINGS                         9849\n",
      "Name: BUILDING CLASS CATEGORY, dtype: int64 \n",
      "\n"
     ]
    }
   ],
   "source": [
    "#3. Building Class Category\n",
    "#Since there are too many categories, we only take the first 4 categories \n",
    "#and group the rest into one\n",
    "print('Building Class - Value Counts')\n",
    "print(df['BUILDING CLASS CATEGORY'].value_counts().head(4), \"\\n\")\n",
    "\n",
    "df['bc'] = AssignCat(df['BUILDING CLASS CATEGORY'])\n",
    "\n",
    "#PlotBar(df['building_category'],'r')\n",
    "\n",
    "# #Convert to dummies\n",
    "# build_cat = pd.get_dummies(df['building_category'], prefix='bc')\n",
    "# df = pd.concat([df, build_cat], axis=1)"
   ]
  },
  {
   "cell_type": "code",
   "execution_count": 211,
   "metadata": {},
   "outputs": [
    {
     "data": {
      "text/plain": [
       "5    14225\n",
       "1    12690\n",
       "2    11520\n",
       "3    10264\n",
       "4     9849\n",
       "Name: bc, dtype: int64"
      ]
     },
     "execution_count": 211,
     "metadata": {},
     "output_type": "execute_result"
    }
   ],
   "source": [
    "df['bc'].value_counts()"
   ]
  },
  {
   "cell_type": "code",
   "execution_count": 212,
   "metadata": {},
   "outputs": [
    {
     "name": "stdout",
     "output_type": "stream",
     "text": [
      "Tax Class - Value Counts\n",
      "2     25678\n",
      "1     24915\n",
      "4      2465\n",
      "2C     1542\n",
      "2A     1252\n",
      "1A     1092\n",
      "        592\n",
      "1B      483\n",
      "2B      399\n",
      "1C      130\n",
      "Name: TAX CLASS AT PRESENT, dtype: int64 \n",
      "\n"
     ]
    },
    {
     "data": {
      "image/png": "[encoded data removed]",
      "text/plain": [
       "<Figure size 432x288 with 1 Axes>"
      ]
     },
     "metadata": {},
     "output_type": "display_data"
    }
   ],
   "source": [
    "#4.A Tax Class Category\n",
    "#Only use 2 most common classes, group the rest into one group\n",
    "print('Tax Class - Value Counts')\n",
    "print(df['TAX CLASS AT PRESENT'].value_counts(), \"\\n\")\n",
    "\n",
    "df['tc'] = AssignCat(df['TAX CLASS AT PRESENT'],3)\n",
    "\n",
    "PlotBar(df['tc'],'gray')\n",
    "\n",
    "# #Convert to dummies\n",
    "# tax_class = pd.get_dummies(df['tax_class'], prefix='tc')\n",
    "# df = pd.concat([df, tax_class], axis=1)"
   ]
  },
  {
   "cell_type": "code",
   "execution_count": 213,
   "metadata": {},
   "outputs": [
    {
     "data": {
      "text/plain": [
       "1    25678\n",
       "2    24915\n",
       "3     7955\n",
       "Name: tc, dtype: int64"
      ]
     },
     "execution_count": 213,
     "metadata": {},
     "output_type": "execute_result"
    }
   ],
   "source": [
    "df['tc'].value_counts()"
   ]
  },
  {
   "cell_type": "code",
   "execution_count": 214,
   "metadata": {},
   "outputs": [
    {
     "name": "stdout",
     "output_type": "stream",
     "text": [
      "Tax Class at Sale - Value Counts\n",
      "2    29413\n",
      "1    26644\n",
      "4     2491\n",
      "Name: TAX CLASS AT TIME OF SALE, dtype: int64 \n",
      "\n"
     ]
    },
    {
     "data": {
      "image/png": "[encoded data removed]",
      "text/plain": [
       "<Figure size 432x288 with 1 Axes>"
      ]
     },
     "metadata": {},
     "output_type": "display_data"
    }
   ],
   "source": [
    "#4.B Tax class at time of sale\n",
    "print('Tax Class at Sale - Value Counts')\n",
    "print(df['TAX CLASS AT TIME OF SALE'].value_counts(), \"\\n\")\n",
    "#Only use 3 most common classes\n",
    "df['tcs'] = AssignCat(df['TAX CLASS AT TIME OF SALE'])\n",
    "  \n",
    "\n",
    "PlotBar(df['tcs'],'black')\n",
    "\n",
    "# tc_present = pd.get_dummies(df['tc_at_sale'], prefix='tcs')\n",
    "# df = pd.concat([df, tc_present], axis=1)\n",
    "\n",
    "#Different systems - unclear which is better"
   ]
  },
  {
   "cell_type": "code",
   "execution_count": 215,
   "metadata": {},
   "outputs": [
    {
     "data": {
      "text/plain": [
       "array([2, 4, 1])"
      ]
     },
     "execution_count": 215,
     "metadata": {},
     "output_type": "execute_result"
    }
   ],
   "source": [
    "df['TAX CLASS AT TIME OF SALE'].unique()"
   ]
  },
  {
   "cell_type": "code",
   "execution_count": 216,
   "metadata": {},
   "outputs": [
    {
     "data": {
      "text/plain": [
       "1    29413\n",
       "2    26644\n",
       "3     2491\n",
       "Name: tcs, dtype: int64"
      ]
     },
     "execution_count": 216,
     "metadata": {},
     "output_type": "execute_result"
    }
   ],
   "source": [
    "df['tcs'].value_counts()"
   ]
  },
  {
   "cell_type": "code",
   "execution_count": 217,
   "metadata": {},
   "outputs": [
    {
     "name": "stdout",
     "output_type": "stream",
     "text": [
      "Block - Value Counts\n",
      "5066    388\n",
      "16      202\n",
      "2135    196\n",
      "4978    181\n",
      "170     131\n",
      "       ... \n",
      "7270      1\n",
      "2333      1\n",
      "4948      1\n",
      "9994      1\n",
      "4094      1\n",
      "Name: BLOCK, Length: 10484, dtype: int64 \n",
      "\n"
     ]
    }
   ],
   "source": [
    "#5. Block\n",
    "print('Block - Value Counts')\n",
    "print(df['BLOCK'].value_counts(), \"\\n\")\n",
    "#Too many distinct values, no category with significant % of counts"
   ]
  },
  {
   "cell_type": "code",
   "execution_count": 218,
   "metadata": {},
   "outputs": [
    {
     "name": "stdout",
     "output_type": "stream",
     "text": [
      "Lot - Value Counts\n",
      "1       3304\n",
      "20       690\n",
      "12       680\n",
      "40       662\n",
      "23       638\n",
      "        ... \n",
      "586        1\n",
      "2603       1\n",
      "554        1\n",
      "2539       1\n",
      "1999       1\n",
      "Name: LOT, Length: 2356, dtype: int64 \n",
      "\n"
     ]
    }
   ],
   "source": [
    "#6. Lot\n",
    "print('Lot - Value Counts')\n",
    "print(df['LOT'].value_counts(), \"\\n\")\n",
    "#Too many distinct values, no category with significant % of counts"
   ]
  },
  {
   "cell_type": "code",
   "execution_count": 219,
   "metadata": {},
   "outputs": [
    {
     "name": "stdout",
     "output_type": "stream",
     "text": [
      "Ease-ment - Value Counts\n",
      "     58548\n",
      "Name: EASE-MENT, dtype: int64 \n",
      "\n"
     ]
    }
   ],
   "source": [
    "#7. Ease-ment\n",
    "print('Ease-ment - Value Counts')\n",
    "print(df['EASE-MENT'].value_counts(), \"\\n\")\n",
    "#Same as ID - no use"
   ]
  },
  {
   "cell_type": "code",
   "execution_count": 220,
   "metadata": {},
   "outputs": [
    {
     "name": "stdout",
     "output_type": "stream",
     "text": [
      "Building Class Present - Value Counts\n",
      "D4    11311\n",
      "R4     9776\n",
      "A1     4729\n",
      "A5     4071\n",
      "Name: BUILDING CLASS AT PRESENT, dtype: int64 \n",
      "\n"
     ]
    },
    {
     "data": {
      "image/png": "[encoded data removed]",
      "text/plain": [
       "<Figure size 432x288 with 1 Axes>"
      ]
     },
     "metadata": {},
     "output_type": "display_data"
    }
   ],
   "source": [
    "#8A - Building class at present\n",
    "print('Building Class Present - Value Counts')\n",
    "print(df['BUILDING CLASS AT PRESENT'].value_counts().head(4), \"\\n\")\n",
    "#Only use 3 most common classes\n",
    "df['bcp'] = AssignCat(df['BUILDING CLASS AT PRESENT'])\n",
    "\n",
    "PlotBar(df['bcp'],color='y')"
   ]
  },
  {
   "cell_type": "code",
   "execution_count": 221,
   "metadata": {},
   "outputs": [
    {
     "data": {
      "text/plain": [
       "5    28661\n",
       "1    11311\n",
       "2     9776\n",
       "3     4729\n",
       "4     4071\n",
       "Name: bcp, dtype: int64"
      ]
     },
     "execution_count": 221,
     "metadata": {},
     "output_type": "execute_result"
    }
   ],
   "source": [
    "df['bcp'].value_counts()"
   ]
  },
  {
   "cell_type": "code",
   "execution_count": 222,
   "metadata": {},
   "outputs": [
    {
     "data": {
      "text/plain": [
       "0        5\n",
       "3        5\n",
       "4        5\n",
       "6        5\n",
       "9        5\n",
       "        ..\n",
       "84543    5\n",
       "84544    5\n",
       "84545    5\n",
       "84546    5\n",
       "84547    5\n",
       "Name: bcp, Length: 58548, dtype: object"
      ]
     },
     "execution_count": 222,
     "metadata": {},
     "output_type": "execute_result"
    }
   ],
   "source": [
    "df['bcp']"
   ]
  },
  {
   "cell_type": "code",
   "execution_count": 223,
   "metadata": {},
   "outputs": [
    {
     "name": "stdout",
     "output_type": "stream",
     "text": [
      "Building Class at Sale - Value Counts\n",
      "D4    11313\n",
      "R4    10264\n",
      "A1     4727\n",
      "A5     4058\n",
      "Name: BUILDING CLASS AT TIME OF SALE, dtype: int64 \n",
      "\n"
     ]
    },
    {
     "data": {
      "image/png": "[encoded data removed]",
      "text/plain": [
       "<Figure size 432x288 with 1 Axes>"
      ]
     },
     "metadata": {},
     "output_type": "display_data"
    }
   ],
   "source": [
    "#8B - Building class at time of sale\n",
    "print('Building Class at Sale - Value Counts')\n",
    "print(df['BUILDING CLASS AT TIME OF SALE'].value_counts().head(4), \"\\n\")\n",
    "\n",
    "df['bcs'] = AssignCat(df['BUILDING CLASS AT TIME OF SALE'])\n",
    "\n",
    "PlotBar(df['bcs'],color='coral')\n",
    "\n",
    "#Almost the same as Building Class at Present - use at Sale which is more meaningful\n",
    "\n",
    "bcs = pd.get_dummies(df['bcs'], prefix='bcs')\n",
    "df = pd.concat([df, bcs], axis=1)"
   ]
  },
  {
   "cell_type": "code",
   "execution_count": 224,
   "metadata": {},
   "outputs": [
    {
     "data": {
      "text/html": [
       "<div>\n",
       "<style scoped>\n",
       "    .dataframe tbody tr th:only-of-type {\n",
       "        vertical-align: middle;\n",
       "    }\n",
       "\n",
       "    .dataframe tbody tr th {\n",
       "        vertical-align: top;\n",
       "    }\n",
       "\n",
       "    .dataframe thead th {\n",
       "        text-align: right;\n",
       "    }\n",
       "</style>\n",
       "<table border=\"1\" class=\"dataframe\">\n",
       "  <thead>\n",
       "    <tr style=\"text-align: right;\">\n",
       "      <th></th>\n",
       "      <th>BOROUGH</th>\n",
       "      <th>NEIGHBORHOOD</th>\n",
       "      <th>BUILDING CLASS CATEGORY</th>\n",
       "      <th>TAX CLASS AT PRESENT</th>\n",
       "      <th>BLOCK</th>\n",
       "      <th>LOT</th>\n",
       "      <th>EASE-MENT</th>\n",
       "      <th>BUILDING CLASS AT PRESENT</th>\n",
       "      <th>ADDRESS</th>\n",
       "      <th>APARTMENT NUMBER</th>\n",
       "      <th>...</th>\n",
       "      <th>bc</th>\n",
       "      <th>tc</th>\n",
       "      <th>tcs</th>\n",
       "      <th>bcp</th>\n",
       "      <th>bcs</th>\n",
       "      <th>bcs_1</th>\n",
       "      <th>bcs_2</th>\n",
       "      <th>bcs_3</th>\n",
       "      <th>bcs_4</th>\n",
       "      <th>bcs_5</th>\n",
       "    </tr>\n",
       "  </thead>\n",
       "  <tbody>\n",
       "    <tr>\n",
       "      <th>72</th>\n",
       "      <td>1</td>\n",
       "      <td>ALPHABET CITY</td>\n",
       "      <td>10 COOPS - ELEVATOR APARTMENTS</td>\n",
       "      <td>2</td>\n",
       "      <td>386</td>\n",
       "      <td>58</td>\n",
       "      <td></td>\n",
       "      <td>D4</td>\n",
       "      <td>223 EAST 3RD STREET, 2D</td>\n",
       "      <td></td>\n",
       "      <td>...</td>\n",
       "      <td>2</td>\n",
       "      <td>1</td>\n",
       "      <td>1</td>\n",
       "      <td>1</td>\n",
       "      <td>1</td>\n",
       "      <td>1</td>\n",
       "      <td>0</td>\n",
       "      <td>0</td>\n",
       "      <td>0</td>\n",
       "      <td>0</td>\n",
       "    </tr>\n",
       "    <tr>\n",
       "      <th>324</th>\n",
       "      <td>1</td>\n",
       "      <td>CHELSEA</td>\n",
       "      <td>10 COOPS - ELEVATOR APARTMENTS</td>\n",
       "      <td>2</td>\n",
       "      <td>694</td>\n",
       "      <td>42</td>\n",
       "      <td></td>\n",
       "      <td>D4</td>\n",
       "      <td>520 WEST 23RD STREET, 16C</td>\n",
       "      <td></td>\n",
       "      <td>...</td>\n",
       "      <td>2</td>\n",
       "      <td>1</td>\n",
       "      <td>1</td>\n",
       "      <td>1</td>\n",
       "      <td>1</td>\n",
       "      <td>1</td>\n",
       "      <td>0</td>\n",
       "      <td>0</td>\n",
       "      <td>0</td>\n",
       "      <td>0</td>\n",
       "    </tr>\n",
       "    <tr>\n",
       "      <th>325</th>\n",
       "      <td>1</td>\n",
       "      <td>CHELSEA</td>\n",
       "      <td>10 COOPS - ELEVATOR APARTMENTS</td>\n",
       "      <td>2</td>\n",
       "      <td>694</td>\n",
       "      <td>42</td>\n",
       "      <td></td>\n",
       "      <td>D4</td>\n",
       "      <td>520 WEST 23RD STREET, 14D</td>\n",
       "      <td></td>\n",
       "      <td>...</td>\n",
       "      <td>2</td>\n",
       "      <td>1</td>\n",
       "      <td>1</td>\n",
       "      <td>1</td>\n",
       "      <td>1</td>\n",
       "      <td>1</td>\n",
       "      <td>0</td>\n",
       "      <td>0</td>\n",
       "      <td>0</td>\n",
       "      <td>0</td>\n",
       "    </tr>\n",
       "    <tr>\n",
       "      <th>326</th>\n",
       "      <td>1</td>\n",
       "      <td>CHELSEA</td>\n",
       "      <td>10 COOPS - ELEVATOR APARTMENTS</td>\n",
       "      <td>2</td>\n",
       "      <td>694</td>\n",
       "      <td>42</td>\n",
       "      <td></td>\n",
       "      <td>D4</td>\n",
       "      <td>520 WEST 23RD STREET, 8C</td>\n",
       "      <td></td>\n",
       "      <td>...</td>\n",
       "      <td>2</td>\n",
       "      <td>1</td>\n",
       "      <td>1</td>\n",
       "      <td>1</td>\n",
       "      <td>1</td>\n",
       "      <td>1</td>\n",
       "      <td>0</td>\n",
       "      <td>0</td>\n",
       "      <td>0</td>\n",
       "      <td>0</td>\n",
       "    </tr>\n",
       "    <tr>\n",
       "      <th>327</th>\n",
       "      <td>1</td>\n",
       "      <td>CHELSEA</td>\n",
       "      <td>10 COOPS - ELEVATOR APARTMENTS</td>\n",
       "      <td>2</td>\n",
       "      <td>694</td>\n",
       "      <td>42</td>\n",
       "      <td></td>\n",
       "      <td>D4</td>\n",
       "      <td>520 WEST 23RD STREET, 3F</td>\n",
       "      <td></td>\n",
       "      <td>...</td>\n",
       "      <td>2</td>\n",
       "      <td>1</td>\n",
       "      <td>1</td>\n",
       "      <td>1</td>\n",
       "      <td>1</td>\n",
       "      <td>1</td>\n",
       "      <td>0</td>\n",
       "      <td>0</td>\n",
       "      <td>0</td>\n",
       "      <td>0</td>\n",
       "    </tr>\n",
       "    <tr>\n",
       "      <th>...</th>\n",
       "      <td>...</td>\n",
       "      <td>...</td>\n",
       "      <td>...</td>\n",
       "      <td>...</td>\n",
       "      <td>...</td>\n",
       "      <td>...</td>\n",
       "      <td>...</td>\n",
       "      <td>...</td>\n",
       "      <td>...</td>\n",
       "      <td>...</td>\n",
       "      <td>...</td>\n",
       "      <td>...</td>\n",
       "      <td>...</td>\n",
       "      <td>...</td>\n",
       "      <td>...</td>\n",
       "      <td>...</td>\n",
       "      <td>...</td>\n",
       "      <td>...</td>\n",
       "      <td>...</td>\n",
       "      <td>...</td>\n",
       "      <td>...</td>\n",
       "    </tr>\n",
       "    <tr>\n",
       "      <th>80326</th>\n",
       "      <td>5</td>\n",
       "      <td>NEW BRIGHTON-ST. GEORGE</td>\n",
       "      <td>10 COOPS - ELEVATOR APARTMENTS</td>\n",
       "      <td>2</td>\n",
       "      <td>10</td>\n",
       "      <td>19</td>\n",
       "      <td></td>\n",
       "      <td>D4</td>\n",
       "      <td>36 HAMILTON AVENUE, 6S</td>\n",
       "      <td></td>\n",
       "      <td>...</td>\n",
       "      <td>2</td>\n",
       "      <td>1</td>\n",
       "      <td>1</td>\n",
       "      <td>1</td>\n",
       "      <td>1</td>\n",
       "      <td>1</td>\n",
       "      <td>0</td>\n",
       "      <td>0</td>\n",
       "      <td>0</td>\n",
       "      <td>0</td>\n",
       "    </tr>\n",
       "    <tr>\n",
       "      <th>80327</th>\n",
       "      <td>5</td>\n",
       "      <td>NEW BRIGHTON-ST. GEORGE</td>\n",
       "      <td>10 COOPS - ELEVATOR APARTMENTS</td>\n",
       "      <td>2</td>\n",
       "      <td>10</td>\n",
       "      <td>19</td>\n",
       "      <td></td>\n",
       "      <td>D4</td>\n",
       "      <td>36 HAMILTON AVENUE, LG</td>\n",
       "      <td></td>\n",
       "      <td>...</td>\n",
       "      <td>2</td>\n",
       "      <td>1</td>\n",
       "      <td>1</td>\n",
       "      <td>1</td>\n",
       "      <td>1</td>\n",
       "      <td>1</td>\n",
       "      <td>0</td>\n",
       "      <td>0</td>\n",
       "      <td>0</td>\n",
       "      <td>0</td>\n",
       "    </tr>\n",
       "    <tr>\n",
       "      <th>80328</th>\n",
       "      <td>5</td>\n",
       "      <td>NEW BRIGHTON-ST. GEORGE</td>\n",
       "      <td>10 COOPS - ELEVATOR APARTMENTS</td>\n",
       "      <td>2</td>\n",
       "      <td>10</td>\n",
       "      <td>19</td>\n",
       "      <td></td>\n",
       "      <td>D4</td>\n",
       "      <td>36 HAMILTON AVENUE, 4P</td>\n",
       "      <td></td>\n",
       "      <td>...</td>\n",
       "      <td>2</td>\n",
       "      <td>1</td>\n",
       "      <td>1</td>\n",
       "      <td>1</td>\n",
       "      <td>1</td>\n",
       "      <td>1</td>\n",
       "      <td>0</td>\n",
       "      <td>0</td>\n",
       "      <td>0</td>\n",
       "      <td>0</td>\n",
       "    </tr>\n",
       "    <tr>\n",
       "      <th>80329</th>\n",
       "      <td>5</td>\n",
       "      <td>NEW BRIGHTON-ST. GEORGE</td>\n",
       "      <td>10 COOPS - ELEVATOR APARTMENTS</td>\n",
       "      <td>2</td>\n",
       "      <td>10</td>\n",
       "      <td>19</td>\n",
       "      <td></td>\n",
       "      <td>D4</td>\n",
       "      <td>36 HAMILTON AVENUE, 5-N</td>\n",
       "      <td></td>\n",
       "      <td>...</td>\n",
       "      <td>2</td>\n",
       "      <td>1</td>\n",
       "      <td>1</td>\n",
       "      <td>1</td>\n",
       "      <td>1</td>\n",
       "      <td>1</td>\n",
       "      <td>0</td>\n",
       "      <td>0</td>\n",
       "      <td>0</td>\n",
       "      <td>0</td>\n",
       "    </tr>\n",
       "    <tr>\n",
       "      <th>80330</th>\n",
       "      <td>5</td>\n",
       "      <td>NEW BRIGHTON-ST. GEORGE</td>\n",
       "      <td>10 COOPS - ELEVATOR APARTMENTS</td>\n",
       "      <td>2</td>\n",
       "      <td>10</td>\n",
       "      <td>19</td>\n",
       "      <td></td>\n",
       "      <td>D4</td>\n",
       "      <td>36 HAMILTON AVENUE, 1P</td>\n",
       "      <td></td>\n",
       "      <td>...</td>\n",
       "      <td>2</td>\n",
       "      <td>1</td>\n",
       "      <td>1</td>\n",
       "      <td>1</td>\n",
       "      <td>1</td>\n",
       "      <td>1</td>\n",
       "      <td>0</td>\n",
       "      <td>0</td>\n",
       "      <td>0</td>\n",
       "      <td>0</td>\n",
       "    </tr>\n",
       "  </tbody>\n",
       "</table>\n",
       "<p>11311 rows × 32 columns</p>\n",
       "</div>"
      ],
      "text/plain": [
       "       BOROUGH             NEIGHBORHOOD  \\\n",
       "72           1            ALPHABET CITY   \n",
       "324          1                  CHELSEA   \n",
       "325          1                  CHELSEA   \n",
       "326          1                  CHELSEA   \n",
       "327          1                  CHELSEA   \n",
       "...        ...                      ...   \n",
       "80326        5  NEW BRIGHTON-ST. GEORGE   \n",
       "80327        5  NEW BRIGHTON-ST. GEORGE   \n",
       "80328        5  NEW BRIGHTON-ST. GEORGE   \n",
       "80329        5  NEW BRIGHTON-ST. GEORGE   \n",
       "80330        5  NEW BRIGHTON-ST. GEORGE   \n",
       "\n",
       "                           BUILDING CLASS CATEGORY TAX CLASS AT PRESENT  \\\n",
       "72     10 COOPS - ELEVATOR APARTMENTS                                 2   \n",
       "324    10 COOPS - ELEVATOR APARTMENTS                                 2   \n",
       "325    10 COOPS - ELEVATOR APARTMENTS                                 2   \n",
       "326    10 COOPS - ELEVATOR APARTMENTS                                 2   \n",
       "327    10 COOPS - ELEVATOR APARTMENTS                                 2   \n",
       "...                                            ...                  ...   \n",
       "80326  10 COOPS - ELEVATOR APARTMENTS                                 2   \n",
       "80327  10 COOPS - ELEVATOR APARTMENTS                                 2   \n",
       "80328  10 COOPS - ELEVATOR APARTMENTS                                 2   \n",
       "80329  10 COOPS - ELEVATOR APARTMENTS                                 2   \n",
       "80330  10 COOPS - ELEVATOR APARTMENTS                                 2   \n",
       "\n",
       "       BLOCK  LOT EASE-MENT BUILDING CLASS AT PRESENT  \\\n",
       "72       386   58                                  D4   \n",
       "324      694   42                                  D4   \n",
       "325      694   42                                  D4   \n",
       "326      694   42                                  D4   \n",
       "327      694   42                                  D4   \n",
       "...      ...  ...       ...                       ...   \n",
       "80326     10   19                                  D4   \n",
       "80327     10   19                                  D4   \n",
       "80328     10   19                                  D4   \n",
       "80329     10   19                                  D4   \n",
       "80330     10   19                                  D4   \n",
       "\n",
       "                         ADDRESS APARTMENT NUMBER  ...  bc  tc  tcs  bcp bcs  \\\n",
       "72       223 EAST 3RD STREET, 2D                   ...   2   1    1    1   1   \n",
       "324    520 WEST 23RD STREET, 16C                   ...   2   1    1    1   1   \n",
       "325    520 WEST 23RD STREET, 14D                   ...   2   1    1    1   1   \n",
       "326     520 WEST 23RD STREET, 8C                   ...   2   1    1    1   1   \n",
       "327     520 WEST 23RD STREET, 3F                   ...   2   1    1    1   1   \n",
       "...                          ...              ...  ...  ..  ..  ...  ...  ..   \n",
       "80326     36 HAMILTON AVENUE, 6S                   ...   2   1    1    1   1   \n",
       "80327     36 HAMILTON AVENUE, LG                   ...   2   1    1    1   1   \n",
       "80328     36 HAMILTON AVENUE, 4P                   ...   2   1    1    1   1   \n",
       "80329    36 HAMILTON AVENUE, 5-N                   ...   2   1    1    1   1   \n",
       "80330     36 HAMILTON AVENUE, 1P                   ...   2   1    1    1   1   \n",
       "\n",
       "      bcs_1  bcs_2  bcs_3 bcs_4 bcs_5  \n",
       "72        1      0      0     0     0  \n",
       "324       1      0      0     0     0  \n",
       "325       1      0      0     0     0  \n",
       "326       1      0      0     0     0  \n",
       "327       1      0      0     0     0  \n",
       "...     ...    ...    ...   ...   ...  \n",
       "80326     1      0      0     0     0  \n",
       "80327     1      0      0     0     0  \n",
       "80328     1      0      0     0     0  \n",
       "80329     1      0      0     0     0  \n",
       "80330     1      0      0     0     0  \n",
       "\n",
       "[11311 rows x 32 columns]"
      ]
     },
     "execution_count": 224,
     "metadata": {},
     "output_type": "execute_result"
    }
   ],
   "source": [
    "df[df['bcp']=='1']"
   ]
  },
  {
   "cell_type": "code",
   "execution_count": 225,
   "metadata": {},
   "outputs": [
    {
     "name": "stdout",
     "output_type": "stream",
     "text": [
      "Apartment No. - Value Counts\n",
      "         45228\n",
      "3B         217\n",
      "3A         216\n",
      "2B         206\n",
      "2A         205\n",
      "         ...  \n",
      "6 MS         1\n",
      "N-613        1\n",
      "37G          1\n",
      "6X           1\n",
      "PH3V         1\n",
      "Name: APARTMENT NUMBER, Length: 3027, dtype: int64 \n",
      "\n"
     ]
    }
   ],
   "source": [
    "#9. Address\n",
    "#Too specifig - unlikely to be useful\n",
    "\n",
    "#10. Apartment no.\n",
    "print('Apartment No. - Value Counts')\n",
    "print(df['APARTMENT NUMBER'].value_counts(), \"\\n\")\n",
    "#Too many different values "
   ]
  },
  {
   "cell_type": "code",
   "execution_count": 226,
   "metadata": {},
   "outputs": [
    {
     "name": "stdout",
     "output_type": "stream",
     "text": [
      "ZIP Code - Value Counts\n",
      "10314    1114\n",
      "11354    1096\n",
      "11201    1040\n",
      "11375     916\n",
      "10011     869\n",
      "         ... \n",
      "11109      30\n",
      "11040      30\n",
      "10475      27\n",
      "10282       8\n",
      "10803       1\n",
      "Name: ZIP CODE, Length: 182, dtype: int64 \n",
      "\n"
     ]
    }
   ],
   "source": [
    "#11. Zip code\n",
    "print('ZIP Code - Value Counts')\n",
    "print(df['ZIP CODE'].value_counts(), \"\\n\")\n",
    "#Too many different values "
   ]
  },
  {
   "cell_type": "code",
   "execution_count": 266,
   "metadata": {},
   "outputs": [
    {
     "name": "stdout",
     "output_type": "stream",
     "text": [
      "RESIDENTIAL UNITS - Value Counts\n",
      "1      25456\n",
      "0      18487\n",
      "2       9975\n",
      "3       2429\n",
      "4        690\n",
      "       ...  \n",
      "144        1\n",
      "369        1\n",
      "146        1\n",
      "498        1\n",
      "462        1\n",
      "Name: RESIDENTIAL UNITS, Length: 136, dtype: int64 \n",
      "\n"
     ]
    }
   ],
   "source": [
    "#12. Residential units\n",
    "print('RESIDENTIAL UNITS - Value Counts')\n",
    "print(df['RESIDENTIAL UNITS'].value_counts(), \"\\n\")\n",
    "df['res_unit_log'] = df['RESIDENTIAL UNITS'].apply(lambda x: 0 if x == 0 \\\n",
    "                                              else np.log(x)) \n",
    "#PlotScatter(df['res_unit_log'],'sns')"
   ]
  },
  {
   "cell_type": "code",
   "execution_count": 267,
   "metadata": {},
   "outputs": [],
   "source": [
    "#13. Commercial units\n",
    "df['com_unit_log'] = df['COMMERCIAL UNITS'].apply(lambda x: 0 if x == 0 \\\n",
    "                                              else np.log(x)) \n",
    "#PlotScatter(df['com_unit_log'],'sns')"
   ]
  },
  {
   "cell_type": "code",
   "execution_count": 268,
   "metadata": {},
   "outputs": [],
   "source": [
    "#14. Total units\n",
    "df['tot_unit_log'] = df['TOTAL UNITS'].apply(lambda x: 0 if x == 0 \\\n",
    "                                              else np.log(x)) \n",
    "#PlotScatter(df['tot_unit_log'],'sns')"
   ]
  },
  {
   "cell_type": "code",
   "execution_count": 269,
   "metadata": {},
   "outputs": [],
   "source": [
    "#15. Land square ft\n",
    "#Impute mean for missing and values\n",
    "df['land'] =  pd.to_numeric(df['LAND SQUARE FEET'], errors='coerce')\n",
    "#use median for 0 and nulls\n",
    "land_median = df['land'][df['land']!=0].median()\n",
    "df['land'] = df['land'].fillna(land_median)\n",
    "df['land'] = df['land'].apply(lambda x: x if x > 0 \\\n",
    "                                          else land_median)\n",
    "df['land_log'] = np.log(df['land'])\n",
    "#PlotScatter(df['land_log'],'sns')"
   ]
  },
  {
   "cell_type": "code",
   "execution_count": 270,
   "metadata": {},
   "outputs": [],
   "source": [
    "#16. Gross square ft\n",
    "df['gross_sqft'] =  pd.to_numeric(df['GROSS SQUARE FEET'], errors='coerce')\n",
    "#use median for 0 and nulls\n",
    "gross_sqft_median = df['gross_sqft'][df['gross_sqft']!=0].median()\n",
    "df['gross_sqft'] = df['gross_sqft'].fillna(gross_sqft_median)\n",
    "df['gross_sqft'] = df['gross_sqft'].apply(lambda x: x if x > 0 \\\n",
    "                                          else gross_sqft_median)\n",
    "df['gross_sqft_log'] = np.log(df['gross_sqft'])\n",
    "#PlotScatter(df['gross_sqft'],'sns')"
   ]
  },
  {
   "cell_type": "code",
   "execution_count": 271,
   "metadata": {
    "scrolled": true
   },
   "outputs": [
    {
     "data": {
      "image/png": "[encoded data removed]",
      "text/plain": [
       "<Figure size 432x288 with 1 Axes>"
      ]
     },
     "metadata": {},
     "output_type": "display_data"
    },
    {
     "data": {
      "image/png": "[encoded data removed]",
      "text/plain": [
       "<Figure size 432x288 with 1 Axes>"
      ]
     },
     "metadata": {},
     "output_type": "display_data"
    }
   ],
   "source": [
    "#17. Year built\n",
    "df['year'] = df['YEAR BUILT']\n",
    "#Impute median where year = 0\n",
    "year_median = df['year'][df['year'] != 0].median()\n",
    "#Date cannot before 1764\n",
    "df['year'] = df['year'].apply(lambda x: x if x >= 1764 else year_median )\n",
    "PlotHist(df['year'], 'orange')\n",
    "PlotScatter(df['year'],'sns')\n",
    "\n",
    "#Unclear if relationship between year and price"
   ]
  },
  {
   "cell_type": "code",
   "execution_count": 233,
   "metadata": {},
   "outputs": [],
   "source": [
    "#18. Sale date\n",
    "f = lambda x: str(x['SALE DATE']).split(' ')[0]\n",
    "df['date']  = df.apply(f, axis=1)\n",
    "sale_dates =  sorted(set(df['date']))\n",
    "\n",
    "date_means = []\n",
    "for i in sale_dates:\n",
    "    date_means.append(np.exp(df['Price'][df['date']== i]).mean())\n",
    "    \n",
    "# plt.plot(sale_dates,date_means)\n",
    "# plt.title('Price - Sale Date')\n",
    "# plt.xlabel('Date')\n",
    "# plt.ylabel('Price')\n",
    "# plt.show()\n",
    "# # Apparently no clear relationship"
   ]
  },
  {
   "cell_type": "code",
   "execution_count": null,
   "metadata": {},
   "outputs": [],
   "source": []
  },
  {
   "cell_type": "code",
   "execution_count": 272,
   "metadata": {
    "_uuid": "ff1ffaa0ada44abff639e05b88d777772b16678b"
   },
   "outputs": [],
   "source": [
    "#7 - Build regression model\n",
    "\n",
    "Train = {}\n",
    "Test = {}\n",
    "model_no = 1\n",
    "\n",
    "def RunRegression(model_number, model):\n",
    "    print('Model no. ' + str([model_number]), \"\\n\" )\n",
    "    Train[model_number] = X_train[model]\n",
    "    Test[model_number]= X_test[model]                        \n",
    "    reg = LinearRegression().fit(Train[model_number], Y_train)\n",
    "    score = reg.score(Test[model_number], Y_test)\n",
    "    print('Model using variables: '+ str(list(Train[model_number])))\n",
    "    print('R^2 Score: ' + str(score), \"\\n\" )\n",
    "    coefficients = reg.coef_\n",
    "    print('Coefficients: ' +str(coefficients), \"\\n\" )  \n",
    "    global model_no\n",
    "    model_no = model_number + 1"
   ]
  },
  {
   "cell_type": "code",
   "execution_count": 273,
   "metadata": {
    "_uuid": "997312e7c5a0cb93d121448ebe1faf27627c22ce"
   },
   "outputs": [],
   "source": [
    "#6 - Split dataset into train and test\n",
    "\n",
    "#potential features\n",
    "# X= df[['BOROUGH','LOT','BLOCK', \\\n",
    "#        'BUILDING CLASS CATEGORY','TAX CLASS AT PRESENT',\\\n",
    "#        'TAX CLASS AT TIME OF SALE','res_unit_log','com_unit_log','tot_unit_log',\\\n",
    "#        'land_log','gross_sqft_log','year']]\n",
    "X= df[['BOROUGH','LOT','BLOCK', \\\n",
    "       'bc',\\\n",
    "       'TAX CLASS AT TIME OF SALE','res_unit_log','com_unit_log','tot_unit_log',\\\n",
    "       'land_log','gross_sqft_log','year']]\n",
    "\n",
    "Y = df['Price']\n",
    "X_train, X_test, Y_train, Y_test = \\\n",
    "   train_test_split(X, Y, test_size=0.3, random_state=66)"
   ]
  },
  {
   "cell_type": "code",
   "execution_count": 274,
   "metadata": {
    "_uuid": "3eb73e143045d7c12b3fb9491f017cdba9ed8d87",
    "scrolled": true
   },
   "outputs": [
    {
     "name": "stdout",
     "output_type": "stream",
     "text": [
      "Model no. [1] \n",
      "\n",
      "Model using variables: ['BOROUGH']\n",
      "R^2 Score: 0.11938063288011047 \n",
      "\n",
      "Coefficients: [-0.26815421] \n",
      "\n",
      "Model no. [2] \n",
      "\n",
      "Model using variables: ['BOROUGH', 'land_log']\n",
      "R^2 Score: 0.16126386236832513 \n",
      "\n",
      "Coefficients: [-0.29171024  0.54734076] \n",
      "\n",
      "Model no. [3] \n",
      "\n",
      "Model using variables: ['BOROUGH', 'gross_sqft_log']\n",
      "R^2 Score: 0.1967996206653294 \n",
      "\n",
      "Coefficients: [-0.23252354  0.6101193 ] \n",
      "\n",
      "Model no. [4] \n",
      "\n",
      "Model using variables: ['BOROUGH', 'gross_sqft_log', 'res_unit_log']\n",
      "R^2 Score: 0.2011110332932019 \n",
      "\n",
      "Coefficients: [-0.24034506  0.51655768  0.14403856] \n",
      "\n",
      "Model no. [5] \n",
      "\n",
      "Model using variables: ['BOROUGH', 'gross_sqft_log', 'com_unit_log']\n",
      "R^2 Score: 0.1983290066449397 \n",
      "\n",
      "Coefficients: [-0.23342025  0.58151102  0.21246944] \n",
      "\n",
      "Model no. [6] \n",
      "\n",
      "Model using variables: ['BOROUGH', 'gross_sqft_log', 'tot_unit_log']\n",
      "R^2 Score: 0.2032416245214993 \n",
      "\n",
      "Coefficients: [-0.24332359  0.47447137  0.17895491] \n",
      "\n",
      "Model no. [7] \n",
      "\n",
      "Model using variables: ['BOROUGH', 'gross_sqft_log', 'tot_unit_log']\n",
      "R^2 Score: 0.2032416245214993 \n",
      "\n",
      "Coefficients: [-0.24332359  0.47447137  0.17895491] \n",
      "\n",
      "Model no. [8] \n",
      "\n",
      "Model using variables: ['BOROUGH', 'gross_sqft_log', 'tot_unit_log', 'TAX CLASS AT TIME OF SALE']\n",
      "R^2 Score: 0.20463538636643264 \n",
      "\n",
      "Coefficients: [-0.25222592  0.52664319  0.13993157 -0.06551206] \n",
      "\n",
      "Model no. [9] \n",
      "\n",
      "Model using variables: ['BOROUGH', 'gross_sqft_log', 'tot_unit_log', 'TAX CLASS AT TIME OF SALE']\n",
      "R^2 Score: 0.20463538636643264 \n",
      "\n",
      "Coefficients: [-0.25222592  0.52664319  0.13993157 -0.06551206] \n",
      "\n",
      "Model no. [10] \n",
      "\n",
      "Model using variables: ['BOROUGH', 'LOT', 'BLOCK', 'bc', 'TAX CLASS AT TIME OF SALE', 'res_unit_log', 'com_unit_log', 'tot_unit_log', 'land_log', 'gross_sqft_log', 'year']\n",
      "R^2 Score: 0.2640886500872499 \n",
      "\n",
      "Coefficients: [-2.09271744e-01  2.02995609e-04 -5.92726781e-05 -4.82186716e-02\n",
      " -1.34424955e-01 -3.75421389e-01 -1.12165057e-01  7.14395275e-01\n",
      "  3.74711185e-01  2.80126449e-01  5.64047005e-04] \n",
      "\n"
     ]
    }
   ],
   "source": [
    "#8 - Test and evaluate different models\n",
    "\n",
    "#First model: only BOROUGH  \n",
    "model =  ['BOROUGH']\n",
    "\n",
    "RunRegression(model_no, model)\n",
    "\n",
    "#Second model: BOROUGH and land  \n",
    "model = ['BOROUGH','land_log']\n",
    "\n",
    "RunRegression(model_no, model)\n",
    "#Total R^2 increased\n",
    "\n",
    "#Third model: BOROUGH and Gross_sqft  \n",
    "model = ['BOROUGH',\\\n",
    "         'gross_sqft_log']\n",
    "RunRegression(model_no, model)\n",
    "#Total R^2 increased compared to land\n",
    "\n",
    "#Fourth model: BOROUGH, Gross_sqft, Res_Unit \n",
    "model = ['BOROUGH',\\\n",
    "         'gross_sqft_log','res_unit_log']\n",
    "RunRegression(model_no, model)\n",
    "#Total R^2 not significantly increased\n",
    "\n",
    "#Fifth model: BOROUGH, Gross_sqft, Com_Unit \n",
    "model = ['BOROUGH',\\\n",
    "         'gross_sqft_log','com_unit_log']\n",
    "RunRegression(model_no, model)\n",
    "#Total R^2 reduced\n",
    "\n",
    "#Sixth model: BOROUGH, Gross_sqft, Tot_Unit \n",
    "model = ['BOROUGH',\\\n",
    "         'gross_sqft_log','tot_unit_log']\n",
    "RunRegression(model_no, model)\n",
    "\n",
    "#Total R^2 higher than res_units or com_units\n",
    "\n",
    "#Seventh model: BOROUGH, Gross_sqft, Tot_Unit, TaxClass \n",
    "model = ['BOROUGH',\\\n",
    "         'gross_sqft_log','tot_unit_log']\n",
    "RunRegression(model_no, model)\n",
    "#Total R^2 slightly increased\n",
    "\n",
    "#Next model: BOROUGH, Gross_sqft, Tot_Unit, TaxClass at Sale \n",
    "model = ['BOROUGH',\\\n",
    "         'gross_sqft_log','tot_unit_log','TAX CLASS AT TIME OF SALE']\n",
    "RunRegression(model_no, model)\n",
    "#Total R^2 slightly lower\n",
    "\n",
    "#Next model: BOROUGH, Gross_sqft, Tot_Unit, TaxClass present, TaxClass at Sale \n",
    "model = ['BOROUGH',\\\n",
    "         'gross_sqft_log','tot_unit_log',\\\n",
    "         'TAX CLASS AT TIME OF SALE']\n",
    "RunRegression(model_no, model)\n",
    "#Total R^2 only slightly higher than without tax class at sale\n",
    "\n",
    "#Next model: BOROUGH, Gross_sqft, Tot_Unit, TaxClass present, Building class\n",
    "model = ['BOROUGH','LOT','BLOCK', \\\n",
    "       'bc',\\\n",
    "       'TAX CLASS AT TIME OF SALE','res_unit_log','com_unit_log','tot_unit_log',\\\n",
    "       'land_log','gross_sqft_log','year']\n",
    "RunRegression(model_no, model)\n",
    "#Total R^2 slightly increased"
   ]
  },
  {
   "cell_type": "code",
   "execution_count": 282,
   "metadata": {},
   "outputs": [],
   "source": [
    "import pickle\n",
    "file = open('../../data/model/model.pkl', 'rb')\n",
    "model = pickle.load(file)\n",
    "file.close()"
   ]
  },
  {
   "cell_type": "code",
   "execution_count": 288,
   "metadata": {},
   "outputs": [],
   "source": [
    "y_hat=rf.predict(X_test)"
   ]
  },
  {
   "cell_type": "code",
   "execution_count": 289,
   "metadata": {},
   "outputs": [
    {
     "data": {
      "text/plain": [
       "array([12.84913838, 12.62615076, 13.15699704, ..., 13.2579549 ,\n",
       "       13.45745379, 12.15972622])"
      ]
     },
     "execution_count": 289,
     "metadata": {},
     "output_type": "execute_result"
    }
   ],
   "source": [
    "y_hat"
   ]
  },
  {
   "cell_type": "code",
   "execution_count": 290,
   "metadata": {},
   "outputs": [
    {
     "data": {
      "text/plain": [
       "26579    14.077875\n",
       "80080    13.052640\n",
       "32325    13.426903\n",
       "68404    12.765688\n",
       "20874    15.157138\n",
       "           ...    \n",
       "16203    13.693343\n",
       "37711    10.165852\n",
       "32616    13.049793\n",
       "41297    13.805460\n",
       "59822    11.603789\n",
       "Name: Price, Length: 17565, dtype: float64"
      ]
     },
     "execution_count": 290,
     "metadata": {},
     "output_type": "execute_result"
    }
   ],
   "source": [
    "Y_test"
   ]
  },
  {
   "cell_type": "code",
   "execution_count": 291,
   "metadata": {},
   "outputs": [],
   "source": [
    "df_metric = pd.DataFrame(data={'R square': [r2_score(Y_test, y_hat)]})"
   ]
  },
  {
   "cell_type": "code",
   "execution_count": 292,
   "metadata": {},
   "outputs": [
    {
     "data": {
      "text/html": [
       "<div>\n",
       "<style scoped>\n",
       "    .dataframe tbody tr th:only-of-type {\n",
       "        vertical-align: middle;\n",
       "    }\n",
       "\n",
       "    .dataframe tbody tr th {\n",
       "        vertical-align: top;\n",
       "    }\n",
       "\n",
       "    .dataframe thead th {\n",
       "        text-align: right;\n",
       "    }\n",
       "</style>\n",
       "<table border=\"1\" class=\"dataframe\">\n",
       "  <thead>\n",
       "    <tr style=\"text-align: right;\">\n",
       "      <th></th>\n",
       "      <th>R square</th>\n",
       "    </tr>\n",
       "  </thead>\n",
       "  <tbody>\n",
       "    <tr>\n",
       "      <th>0</th>\n",
       "      <td>0.662462</td>\n",
       "    </tr>\n",
       "  </tbody>\n",
       "</table>\n",
       "</div>"
      ],
      "text/plain": [
       "   R square\n",
       "0  0.662462"
      ]
     },
     "execution_count": 292,
     "metadata": {},
     "output_type": "execute_result"
    }
   ],
   "source": [
    "df_metric "
   ]
  },
  {
   "cell_type": "code",
   "execution_count": 295,
   "metadata": {},
   "outputs": [],
   "source": [
    "df_metric.to_csv(\"metric.txt\",index=False)"
   ]
  },
  {
   "cell_type": "code",
   "execution_count": null,
   "metadata": {},
   "outputs": [],
   "source": []
  },
  {
   "cell_type": "code",
   "execution_count": null,
   "metadata": {},
   "outputs": [],
   "source": []
  },
  {
   "cell_type": "code",
   "execution_count": null,
   "metadata": {},
   "outputs": [],
   "source": []
  },
  {
   "cell_type": "code",
   "execution_count": 198,
   "metadata": {},
   "outputs": [],
   "source": [
    "error= abs(np.exp(y_hat)-np.exp(Y_test))"
   ]
  },
  {
   "cell_type": "code",
   "execution_count": 189,
   "metadata": {},
   "outputs": [
    {
     "data": {
      "text/plain": [
       "77804    13.171154\n",
       "42376    13.814510\n",
       "56372    13.604790\n",
       "9931     13.726679\n",
       "83266    12.691580\n",
       "           ...    \n",
       "53280    13.199423\n",
       "35743    12.741835\n",
       "16589    13.458836\n",
       "33352    13.910866\n",
       "1899     14.690979\n",
       "Name: Price, Length: 17268, dtype: float64"
      ]
     },
     "execution_count": 189,
     "metadata": {},
     "output_type": "execute_result"
    }
   ],
   "source": [
    "Y_test"
   ]
  },
  {
   "cell_type": "code",
   "execution_count": 190,
   "metadata": {
    "scrolled": true
   },
   "outputs": [
    {
     "data": {
      "text/plain": [
       "77804    0.583762\n",
       "42376    1.069327\n",
       "56372    0.483827\n",
       "9931     1.515491\n",
       "83266    0.420903\n",
       "           ...   \n",
       "53280    0.055694\n",
       "35743    1.354424\n",
       "16589    1.102722\n",
       "33352    0.984825\n",
       "1899     0.478277\n",
       "Name: Price, Length: 17268, dtype: float64"
      ]
     },
     "execution_count": 190,
     "metadata": {},
     "output_type": "execute_result"
    }
   ],
   "source": [
    "error"
   ]
  },
  {
   "cell_type": "code",
   "execution_count": 193,
   "metadata": {},
   "outputs": [],
   "source": [
    "import matplotlib.pyplot as plt\n",
    "import matplotlib as mpl\n",
    "from cycler import cycler\n",
    "# Update matplotlib defaults to something nicer\n",
    "mpl_update = {\n",
    "    'font.size': 16,\n",
    "    'axes.prop_cycle': cycler('color', ['#0085ca', '#888b8d', '#00c389', '#f4364c', '#e56db1']),\n",
    "    'xtick.labelsize': 14,\n",
    "    'ytick.labelsize': 14,\n",
    "    'figure.figsize': [12.0, 8.0],\n",
    "    'axes.labelsize': 20,\n",
    "    'axes.labelcolor': '#677385',\n",
    "    'axes.titlesize': 20,\n",
    "    'lines.color': '#0055A7',\n",
    "    'lines.linewidth': 3,\n",
    "    'text.color': '#677385',\n",
    "    'font.family': 'sans-serif',\n",
    "    'font.sans-serif': 'Tahoma'\n",
    "}\n",
    "mpl.rcParams.update(mpl_update)"
   ]
  },
  {
   "cell_type": "code",
   "execution_count": 199,
   "metadata": {},
   "outputs": [
    {
     "data": {
      "image/png": "[encoded data removed]",
      "text/plain": [
       "<Figure size 864x576 with 1 Axes>"
      ]
     },
     "metadata": {},
     "output_type": "display_data"
    }
   ],
   "source": [
    "ax = plt.scatter(np.exp(Y_test),error)\n",
    "plt.title('Prediction Error',fontsize=24)\n",
    "plt.ylabel('Absolute Error')\n",
    "plt.xlabel('House Sale Price')\n",
    "ax.figure.savefig(\"123.png\")"
   ]
  },
  {
   "cell_type": "code",
   "execution_count": 255,
   "metadata": {},
   "outputs": [
    {
     "data": {
      "text/plain": [
       "RandomForestRegressor(bootstrap=True, ccp_alpha=0.0, criterion='mse',\n",
       "                      max_depth=None, max_features='auto', max_leaf_nodes=None,\n",
       "                      max_samples=None, min_impurity_decrease=0.0,\n",
       "                      min_impurity_split=None, min_samples_leaf=1,\n",
       "                      min_samples_split=2, min_weight_fraction_leaf=0.0,\n",
       "                      n_estimators=100, n_jobs=None, oob_score=False,\n",
       "                      random_state=66, verbose=0, warm_start=False)"
      ]
     },
     "execution_count": 255,
     "metadata": {},
     "output_type": "execute_result"
    }
   ],
   "source": [
    "# Instantiate model with 1000 decision trees\n",
    "rf = RandomForestRegressor(n_estimators = 100, random_state = 66)\n",
    "\n",
    "# Train the model on training data\n",
    "rf.fit(X_train, Y_train)"
   ]
  },
  {
   "cell_type": "code",
   "execution_count": 171,
   "metadata": {},
   "outputs": [
    {
     "data": {
      "text/plain": [
       "26579    1.329646\n",
       "80080    0.211534\n",
       "32325    1.134326\n",
       "68404    0.176171\n",
       "20874    1.987391\n",
       "           ...   \n",
       "16203    1.188362\n",
       "37711    3.129941\n",
       "32616    0.114756\n",
       "41297    0.296041\n",
       "59822    1.761317\n",
       "Name: Price, Length: 17565, dtype: float64"
      ]
     },
     "execution_count": 171,
     "metadata": {},
     "output_type": "execute_result"
    }
   ],
   "source": [
    "error"
   ]
  },
  {
   "cell_type": "code",
   "execution_count": 281,
   "metadata": {},
   "outputs": [
    {
     "name": "stdout",
     "output_type": "stream",
     "text": [
      "The R square: 0.6624616715880267\n"
     ]
    }
   ],
   "source": [
    "# Use the forest's predict method on the test data\n",
    "y_hat = rf.predict(X_test)\n",
    "print('The R square:',r2_score(Y_test, y_hat))"
   ]
  },
  {
   "cell_type": "code",
   "execution_count": 85,
   "metadata": {},
   "outputs": [
    {
     "name": "stdout",
     "output_type": "stream",
     "text": [
      "Adjusted R square: 0.6622501452613294\n"
     ]
    }
   ],
   "source": [
    "SS_Residual = sum((Y_test-y_hat)**2)\n",
    "SS_Total = sum((Y_test-np.mean(Y_test))**2)\n",
    "r_squared = 1 - (float(SS_Residual))/SS_Total\n",
    "adjusted_r_squared = 1 - (1-r_squared)*(len(Y_test)-1)/(len(Y_test)-X_test.shape[1]-1)\n",
    "# adjusted R square\n",
    "print('Adjusted R square:', adjusted_r_squared)"
   ]
  },
  {
   "cell_type": "code",
   "execution_count": 203,
   "metadata": {},
   "outputs": [
    {
     "data": {
      "image/png": "[encoded data removed]",
      "text/plain": [
       "<Figure size 1800x864 with 1 Axes>"
      ]
     },
     "metadata": {},
     "output_type": "display_data"
    }
   ],
   "source": [
    "feat_importances = pd.Series(model.feature_importances_, index=['BOROUGH','LOT','BLOCK', \\\n",
    "       'bc','TAX CLASS AT TIME OF SALE','res_unit_log','com_unit_log','tot_unit_log',\\\n",
    "       'land_log','GROSS SQUARE FEET','YEAR BUILT'])\n",
    "ax = feat_importances.nlargest(5).plot(kind='barh',figsize=(25,12),fontsize=22)\n",
    "ax.figure.savefig(\"feature_importance.jpg\")"
   ]
  },
  {
   "cell_type": "code",
   "execution_count": 87,
   "metadata": {
    "scrolled": true
   },
   "outputs": [],
   "source": [
    "error = abs(Y_test - y_hat)"
   ]
  },
  {
   "cell_type": "code",
   "execution_count": 88,
   "metadata": {},
   "outputs": [
    {
     "data": {
      "text/plain": [
       "26579    1.228736\n",
       "80080    0.426489\n",
       "32325    0.269906\n",
       "68404    0.250927\n",
       "20874    0.506245\n",
       "           ...   \n",
       "16203    0.005275\n",
       "37711    1.084280\n",
       "32616    0.208162\n",
       "41297    0.348006\n",
       "59822    0.555937\n",
       "Name: Price, Length: 17565, dtype: float64"
      ]
     },
     "execution_count": 88,
     "metadata": {},
     "output_type": "execute_result"
    }
   ],
   "source": [
    "error"
   ]
  },
  {
   "cell_type": "code",
   "execution_count": 200,
   "metadata": {
    "scrolled": true
   },
   "outputs": [
    {
     "data": {
      "text/plain": [
       "83304    13.077366\n",
       "Name: Price, dtype: float64"
      ]
     },
     "execution_count": 200,
     "metadata": {},
     "output_type": "execute_result"
    }
   ],
   "source": [
    "Y[Y.index == 83304]"
   ]
  },
  {
   "cell_type": "code",
   "execution_count": 147,
   "metadata": {},
   "outputs": [],
   "source": [
    "test = pd.DataFrame([[int(bo),int(lot),int(block),int(bc),int(tax),np.log(int(ru)),\n",
    "                     np.log(int(cu)),np.log(int(tu)),np.log(float(land)),\n",
    "                     np.log(float(gross)),int(yr)]],\n",
    "                    columns=[\"BOROUGH\",\"LOT\",\"BLOCK\",\"bc\",\"TAX CLASS AT TIME OF SALE\",\n",
    "                             \"res_unit_log\",\"com_unit_log\",\"tot_unit_log\", \"land_log\", \n",
    "                             \"gross_sqft_log\",\"year\"])"
   ]
  }
 ],
 "metadata": {
  "kernelspec": {
   "display_name": "Python 3",
   "language": "python",
   "name": "python3"
  },
  "language_info": {
   "codemirror_mode": {
    "name": "ipython",
    "version": 3
   },
   "file_extension": ".py",
   "mimetype": "text/x-python",
   "name": "python",
   "nbconvert_exporter": "python",
   "pygments_lexer": "ipython3",
   "version": "3.7.7"
  }
 },
 "nbformat": 4,
 "nbformat_minor": 1
}
